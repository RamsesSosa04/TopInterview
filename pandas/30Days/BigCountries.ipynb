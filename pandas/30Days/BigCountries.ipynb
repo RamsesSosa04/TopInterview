{
 "cells": [
  {
   "cell_type": "code",
   "execution_count": 4,
   "id": "75b5b308",
   "metadata": {},
   "outputs": [],
   "source": [
    "import pandas as pd\n",
    "data = [\n",
    "    ['Afghanistan', 'Asia', 652230, 25500100, 20343000000],\n",
    "    ['Albania', 'Europe', 28748, 2831741, 12960000000],\n",
    "    ['Algeria', 'Africa', 2381741, 37100000, 188681000000],\n",
    "    ['Andorra', 'Europe', 468, 78115, 3712000000],\n",
    "    ['Angola', 'Africa', 1246700, 20609294, 100990000000]\n",
    "]\n",
    "world = pd.DataFrame(data, columns=['name', 'continent', 'area', 'population', 'gdp'])"
   ]
  },
  {
   "cell_type": "code",
   "execution_count": null,
   "id": "16245051",
   "metadata": {},
   "outputs": [],
   "source": []
  }
 ],
 "metadata": {
  "kernelspec": {
   "display_name": "Python 3",
   "language": "python",
   "name": "python3"
  },
  "language_info": {
   "codemirror_mode": {
    "name": "ipython",
    "version": 3
   },
   "file_extension": ".py",
   "mimetype": "text/x-python",
   "name": "python",
   "nbconvert_exporter": "python",
   "pygments_lexer": "ipython3",
   "version": "3.11.2"
  }
 },
 "nbformat": 4,
 "nbformat_minor": 5
}

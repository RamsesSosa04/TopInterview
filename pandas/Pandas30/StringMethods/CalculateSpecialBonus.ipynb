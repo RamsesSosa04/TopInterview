{
 "cells": [
  {
   "cell_type": "markdown",
   "id": "bf8a5c45",
   "metadata": {},
   "source": [
    "1873. Calculate Special Bonus"
   ]
  },
  {
   "cell_type": "code",
   "execution_count": null,
   "id": "22637007",
   "metadata": {},
   "outputs": [],
   "source": [
    "import pandas as pd\n",
    "\n",
    "def calculate_special_bonus(employees: pd.DataFrame) -> pd.DataFrame:\n",
    "    "
   ]
  }
 ],
 "metadata": {
  "kernelspec": {
   "display_name": "Python 3",
   "language": "python",
   "name": "python3"
  },
  "language_info": {
   "name": "python",
   "version": "3.11.2"
  }
 },
 "nbformat": 4,
 "nbformat_minor": 5
}

{
 "cells": [
  {
   "cell_type": "markdown",
   "id": "bf8a5c45",
   "metadata": {},
   "source": [
    "1873. Calculate Special Bonus"
   ]
  }
 ],
 "metadata": {
  "language_info": {
   "name": "python"
  }
 },
 "nbformat": 4,
 "nbformat_minor": 5
}

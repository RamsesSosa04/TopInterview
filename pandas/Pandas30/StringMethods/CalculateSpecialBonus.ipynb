{
 "cells": [
  {
   "cell_type": "markdown",
   "id": "bf8a5c45",
   "metadata": {},
   "source": [
    "1873. Calculate Special Bonus"
   ]
  },
  {
   "cell_type": "code",
   "execution_count": 2,
   "id": "22637007",
   "metadata": {},
   "outputs": [],
   "source": [
    "import pandas as pd\n",
    "\n",
    "def calculate_special_bonus(employees: pd.DataFrame) -> pd.DataFrame:\n",
    "        employees['bonus'] = employees.apply(\n",
    "        lambda row: row['salary'] if (row['employee_id'] % 2 != 0) and (not row['name'].startswith('M')) else 0,\n",
    "        axis=1\n",
    "    )\n",
    "        result = employees[['employee_id', 'bonus']].sort_values('employee_id')"
   ]
  }
 ],
 "metadata": {
  "kernelspec": {
   "display_name": "Python 3",
   "language": "python",
   "name": "python3"
  },
  "language_info": {
   "codemirror_mode": {
    "name": "ipython",
    "version": 3
   },
   "file_extension": ".py",
   "mimetype": "text/x-python",
   "name": "python",
   "nbconvert_exporter": "python",
   "pygments_lexer": "ipython3",
   "version": "3.11.2"
  }
 },
 "nbformat": 4,
 "nbformat_minor": 5
}

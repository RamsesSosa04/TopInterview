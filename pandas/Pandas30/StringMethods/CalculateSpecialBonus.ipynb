{
 "cells": [
  {
   "cell_type": "markdown",
   "id": "bf8a5c45",
   "metadata": {},
   "source": [
    "1873. Calculate Special Bonus"
   ]
  },
  {
   "cell_type": "code",
   "execution_count": 4,
   "id": "22637007",
   "metadata": {},
   "outputs": [],
   "source": [
    "import pandas as pd\n",
    "\n",
    "def calculate_special_bonus(employees: pd.DataFrame) -> pd.DataFrame:\n",
    "        employees['bonus'] = employees.apply(\n",
    "        lambda row: row['salary'] if (row['employee_id'] % 2 != 0) and (not row['name'].startswith('M')) else 0,\n",
    "        axis=1\n",
    "    )\n",
    "        result = employees[['employee_id', 'bonus']].sort_values('employee_id')\n",
    "    \n",
    "        return result"
   ]
  },
  {
   "cell_type": "code",
   "execution_count": null,
   "id": "be28596c",
   "metadata": {},
   "outputs": [],
   "source": [
    "data = {\n",
    "    'employee_id': [2, 3, 7, 8, 9],\n",
    "    'name': ['Meir', 'Michael', 'Addilyn', 'Juan', 'Kannon'],\n",
    "    'salary': [3000, 3800, 7400, 6100, 7700]\n",
    "}\n"
   ]
  }
 ],
 "metadata": {
  "kernelspec": {
   "display_name": "Python 3",
   "language": "python",
   "name": "python3"
  },
  "language_info": {
   "codemirror_mode": {
    "name": "ipython",
    "version": 3
   },
   "file_extension": ".py",
   "mimetype": "text/x-python",
   "name": "python",
   "nbconvert_exporter": "python",
   "pygments_lexer": "ipython3",
   "version": "3.11.2"
  }
 },
 "nbformat": 4,
 "nbformat_minor": 5
}

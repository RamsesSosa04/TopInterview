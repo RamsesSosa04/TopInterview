{
 "cells": [
  {
   "cell_type": "markdown",
   "id": "9022d931",
   "metadata": {},
   "source": [
    "1683. Invalid Tweets\n",
    "Encuentra tweets inválidos (con más de 15 caracteres)"
   ]
  },
  {
   "cell_type": "code",
   "execution_count": 1,
   "id": "b260e574",
   "metadata": {},
   "outputs": [],
   "source": [
    "import pandas as pd\n",
    "\n",
    "def invalid_tweets(tweets: pd.DataFrame) -> pd.DataFrame:\n",
    "    invalid = tweets[tweets['content'].str.len() > 15]\n",
    "    return invalid[['tweet_id']]"
   ]
  },
  {
   "cell_type": "code",
   "execution_count": null,
   "id": "b477edc3",
   "metadata": {},
   "outputs": [],
   "source": [
    "data = {\n",
    "    'tweet_id': [1, 2],\n",
    "    'content': [\n",
    "        'Let us Code',\n",
    "        'More than fifteen chars are here!'\n",
    "    ]\n",
    "}\n",
    "tweets = pd.DataFrame(data)"
   ]
  }
 ],
 "metadata": {
  "kernelspec": {
   "display_name": "Python 3",
   "language": "python",
   "name": "python3"
  },
  "language_info": {
   "codemirror_mode": {
    "name": "ipython",
    "version": 3
   },
   "file_extension": ".py",
   "mimetype": "text/x-python",
   "name": "python",
   "nbconvert_exporter": "python",
   "pygments_lexer": "ipython3",
   "version": "3.11.2"
  }
 },
 "nbformat": 4,
 "nbformat_minor": 5
}

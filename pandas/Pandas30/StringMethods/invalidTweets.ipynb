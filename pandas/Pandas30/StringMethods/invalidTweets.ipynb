{
 "cells": [
  {
   "cell_type": "markdown",
   "id": "9022d931",
   "metadata": {},
   "source": [
    "1683. Invalid Tweets\n",
    "Encuentra tweets inválidos (con más de 15 caracteres)  "
   ]
  },
  {
   "cell_type": "code",
   "execution_count": null,
   "id": "b260e574",
   "metadata": {},
   "outputs": [],
   "source": [
    "import pandas as pd\n",
    "\n",
    "def invalid_tweets(tweets: pd.DataFrame) -> pd.DataFrame:\n",
    "    "
   ]
  }
 ],
 "metadata": {
  "kernelspec": {
   "display_name": "Python 3",
   "language": "python",
   "name": "python3"
  },
  "language_info": {
   "name": "python",
   "version": "3.11.2"
  }
 },
 "nbformat": 4,
 "nbformat_minor": 5
}

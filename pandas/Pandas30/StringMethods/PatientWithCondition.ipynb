{
 "cells": [
  {
   "cell_type": "markdown",
   "id": "b34fba8d",
   "metadata": {},
   "source": [
    "1527. Patients With a Condition"
   ]
  }
 ],
 "metadata": {
  "language_info": {
   "name": "python"
  }
 },
 "nbformat": 4,
 "nbformat_minor": 5
}

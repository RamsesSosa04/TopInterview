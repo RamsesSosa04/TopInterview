{
 "cells": [
  {
   "cell_type": "markdown",
   "id": "b34fba8d",
   "metadata": {},
   "source": [
    "1527. Patients With a Condition"
   ]
  },
  {
   "cell_type": "code",
   "execution_count": 1,
   "id": "00f7ba97",
   "metadata": {},
   "outputs": [],
   "source": [
    "import pandas as pd\n",
    "\n",
    "def find_patients(patients: pd.DataFrame) -> pd.DataFrame:\n",
    "    diabetic_patients = patients[patients['conditions'].str.contains(r'\\bDIAB1')]\n",
    "    \n",
    "    return diabetic_patients"
   ]
  },
  {
   "cell_type": "code",
   "execution_count": null,
   "id": "a9396f6c",
   "metadata": {},
   "outputs": [],
   "source": [
    "data = {\n",
    "    'patient_id': [1, 2, 3, 4, 5],\n",
    "    'patient_name': ['Daniel', 'Alice', 'Bob', 'George', 'Alain'],\n",
    "    'conditions': ['YFEV COUGH', '', 'DIAB100 MYOP', 'ACNE DIAB100', 'DIAB201']\n",
    "}\n",
    "\n",
    "patients = pd.DataFrame(data)\n",
    "\n",
    "print(find_patients(patients).to_string(index=False))"
   ]
  }
 ],
 "metadata": {
  "kernelspec": {
   "display_name": "Python 3",
   "language": "python",
   "name": "python3"
  },
  "language_info": {
   "codemirror_mode": {
    "name": "ipython",
    "version": 3
   },
   "file_extension": ".py",
   "mimetype": "text/x-python",
   "name": "python",
   "nbconvert_exporter": "python",
   "pygments_lexer": "ipython3",
   "version": "3.11.2"
  }
 },
 "nbformat": 4,
 "nbformat_minor": 5
}

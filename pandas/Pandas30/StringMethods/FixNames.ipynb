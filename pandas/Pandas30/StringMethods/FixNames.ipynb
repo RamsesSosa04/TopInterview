{
 "cells": [
  {
   "cell_type": "markdown",
   "id": "acce8eaa",
   "metadata": {},
   "source": [
    "1667. Fix Names in a Table"
   ]
  }
 ],
 "metadata": {
  "language_info": {
   "name": "python"
  }
 },
 "nbformat": 4,
 "nbformat_minor": 5
}

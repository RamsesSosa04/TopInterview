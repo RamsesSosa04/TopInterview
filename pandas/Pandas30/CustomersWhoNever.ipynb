{
 "cells": [
  {
   "cell_type": "markdown",
   "id": "afbc4f2e",
   "metadata": {},
   "source": [
    "183. Customers Who Never Order"
   ]
  },
  {
   "cell_type": "code",
   "execution_count": 2,
   "id": "0d7e0c75",
   "metadata": {},
   "outputs": [],
   "source": [
    "import pandas as pd\n",
    "\n",
    "def find_customers(customers: pd.DataFrame, orders: pd.DataFrame) -> pd.DataFrame:\n",
    "    merged = pd.merge(customers, orders, left_on='id', right_on='customersId', how='left')\n",
    "    never_ordered = merged[merged['customersId'].isna()]\n",
    "    result = never_ordered[['name']].rename(columns={'name' : 'customers'})"
   ]
  },
  {
   "cell_type": "code",
   "execution_count": null,
   "id": "7a6c07b5",
   "metadata": {},
   "outputs": [],
   "source": [
    "customers_data = {\n",
    "    'id' : [1, 2, 3, 4],\n",
    "    'name' : ['Joe', 'Henry', 'Sam', 'Max']\n",
    "}\n"
   ]
  }
 ],
 "metadata": {
  "kernelspec": {
   "display_name": "Python 3",
   "language": "python",
   "name": "python3"
  },
  "language_info": {
   "codemirror_mode": {
    "name": "ipython",
    "version": 3
   },
   "file_extension": ".py",
   "mimetype": "text/x-python",
   "name": "python",
   "nbconvert_exporter": "python",
   "pygments_lexer": "ipython3",
   "version": "3.11.2"
  }
 },
 "nbformat": 4,
 "nbformat_minor": 5
}

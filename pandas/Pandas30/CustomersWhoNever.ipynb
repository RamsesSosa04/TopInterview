{
 "cells": [
  {
   "cell_type": "markdown",
   "id": "afbc4f2e",
   "metadata": {},
   "source": [
    "183. Customers Who Never Order\n"
   ]
  },
  {
   "cell_type": "code",
   "execution_count": null,
   "id": "0d7e0c75",
   "metadata": {},
   "outputs": [],
   "source": [
    "import pandas as pd\n",
    "\n",
    "def find_customers(customers: pd.DataFrame, orders: pd.DataFrame) -> pd.DataFrame:\n",
    "    merged = pd.merge(customers, orders, left_on='id', right_on='customerId', how='left')\n",
    "    never_ordered = merged[merged['customersId'].isna()]\n",
    "    result = never_ordered[['name']].rename(columns={'name' : 'Customers'})"
   ]
  },
  {
   "cell_type": "code",
   "execution_count": 3,
   "id": "7a6c07b5",
   "metadata": {},
   "outputs": [],
   "source": [
    "customers_data = {\n",
    "    'id' : [1, 2, 3, 4],\n",
    "    'name' : ['Joe', 'Henry', 'Sam', 'Max']\n",
    "}\n",
    "orders_table = {\n",
    "    'id' : [1, 2],\n",
    "    'customerId' : [3, 1]\n",
    "}"
   ]
  },
  {
   "cell_type": "code",
   "execution_count": null,
   "id": "93705361",
   "metadata": {},
   "outputs": [],
   "source": []
  }
 ],
 "metadata": {
  "kernelspec": {
   "display_name": "Python 3",
   "language": "python",
   "name": "python3"
  },
  "language_info": {
   "codemirror_mode": {
    "name": "ipython",
    "version": 3
   },
   "file_extension": ".py",
   "mimetype": "text/x-python",
   "name": "python",
   "nbconvert_exporter": "python",
   "pygments_lexer": "ipython3",
   "version": "3.11.2"
  }
 },
 "nbformat": 4,
 "nbformat_minor": 5
}

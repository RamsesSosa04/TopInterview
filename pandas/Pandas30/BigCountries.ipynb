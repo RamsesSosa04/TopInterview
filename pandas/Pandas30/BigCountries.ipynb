{
 "cells": [
  {
   "cell_type": "code",
   "execution_count": 9,
   "id": "75b5b308",
   "metadata": {},
   "outputs": [],
   "source": [
    "import pandas as pd\n",
    "data = [\n",
    "    ['Afghanistan', 'Asia', 652230, 25500100, 20343000000],\n",
    "    ['Albania', 'Europe', 28748, 2831741, 12960000000],\n",
    "    ['Algeria', 'Africa', 2381741, 37100000, 188681000000],\n",
    "    ['Andorra', 'Europe', 468, 78115, 3712000000],\n",
    "    ['Angola', 'Africa', 1246700, 20609294, 100990000000]\n",
    "]\n",
    "world = pd.DataFrame(data, columns=['name', 'continent', 'area', 'population', 'gdp'])"
   ]
  },
  {
   "cell_type": "code",
   "execution_count": 10,
   "id": "16245051",
   "metadata": {},
   "outputs": [
    {
     "name": "stdout",
     "output_type": "stream",
     "text": [
      "          name  population     area\n",
      "0  Afghanistan    25500100   652230\n",
      "2      Algeria    37100000  2381741\n"
     ]
    }
   ],
   "source": [
    "big_countries = world[(world['area'] > 3000000) | (world['population'] >= 25000000)]\n",
    "result = big_countries[['name', 'population', 'area']]\n",
    "print(result)"
   ]
  },
  {
   "cell_type": "markdown",
   "id": "7c99d89d",
   "metadata": {},
   "source": [
    "Los paises considerados 'big countries' son: \n",
    "- Afghanistan: Cumple con la poblacion (25.5M > 25M)\n",
    "- Algeria: Cumple con la poblacion (37.1M > 25M)"
   ]
  }
 ],
 "metadata": {
  "kernelspec": {
   "display_name": "Python 3",
   "language": "python",
   "name": "python3"
  },
  "language_info": {
   "codemirror_mode": {
    "name": "ipython",
    "version": 3
   },
   "file_extension": ".py",
   "mimetype": "text/x-python",
   "name": "python",
   "nbconvert_exporter": "python",
   "pygments_lexer": "ipython3",
   "version": "3.11.2"
  }
 },
 "nbformat": 4,
 "nbformat_minor": 5
}

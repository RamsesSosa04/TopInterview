{
 "cells": [
  {
   "cell_type": "markdown",
   "id": "ec23a326",
   "metadata": {},
   "source": [
    "1148. Article Views I"
   ]
  }
 ],
 "metadata": {
  "language_info": {
   "name": "python"
  }
 },
 "nbformat": 4,
 "nbformat_minor": 5
}

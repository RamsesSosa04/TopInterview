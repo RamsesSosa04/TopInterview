{
 "cells": [
  {
   "cell_type": "markdown",
   "id": "ec23a326",
   "metadata": {},
   "source": [
    "1148. Article Views I"
   ]
  },
  {
   "cell_type": "code",
   "execution_count": null,
   "id": "092458c4",
   "metadata": {},
   "outputs": [],
   "source": [
    "import pandas as pd\n",
    "\n",
    "def article_views(views: pd.DataFrame) -> pd.DataFrame:\n",
    "    self_viewers = views[views['author_id'] == views['viewer_id']]\n",
    "    unique_author = self_viewers['author_id'].unique()\n",
    "    unique_author_sorted = sorted(unique_author)\n",
    "    \n",
    "    result = pd.DataFrame({'id' : unique_author_sorted})\n",
    "    return result"
   ]
  },
  {
   "cell_type": "code",
   "execution_count": null,
   "id": "d6639e0a",
   "metadata": {},
   "outputs": [
    {
     "name": "stdout",
     "output_type": "stream",
     "text": [
      " id\n",
      "  3\n",
      "  4\n",
      "  7\n"
     ]
    }
   ],
   "source": [
    "data = {\n",
    "    'article_id': [1, 1, 2, 2, 4, 3, 3],\n",
    "    'author_id': [3, 3, 7, 7, 7, 4, 4],\n",
    "    'viewer_id': [5, 3, 7, 6, 1, 4, 4],\n",
    "    'view_date': ['2025-04-01', '2025-04-02', '2025-04-01', '2025-04-02', '2025-04-22', '2025-04-21', '2025-04-21']\n",
    "}\n"
   ]
  }
 ],
 "metadata": {
  "kernelspec": {
   "display_name": "Python 3",
   "language": "python",
   "name": "python3"
  },
  "language_info": {
   "codemirror_mode": {
    "name": "ipython",
    "version": 3
   },
   "file_extension": ".py",
   "mimetype": "text/x-python",
   "name": "python",
   "nbconvert_exporter": "python",
   "pygments_lexer": "ipython3",
   "version": "3.11.2"
  }
 },
 "nbformat": 4,
 "nbformat_minor": 5
}
